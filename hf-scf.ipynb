{
 "cells": [
  {
   "cell_type": "markdown",
   "metadata": {
    "id": "0uVJV28ThiOL"
   },
   "source": [
    "# Simple Hartree-Fock SCF calculation: this progam uses stored integrals to perform a Hartree-Fock SCF calculation for two electron atoms and diatomic molecules. it also calculates the dipole moment."
   ]
  },
  {
   "cell_type": "markdown",
   "metadata": {
    "id": "SjFJouwIhiOO"
   },
   "source": [
    "# (1) Import the libraries needed to run the notebook"
   ]
  },
  {
   "cell_type": "code",
   "execution_count": 1,
   "metadata": {
    "id": "s0bvc_pjhiOP"
   },
   "outputs": [],
   "source": [
    "import numpy as np"
   ]
  },
  {
   "cell_type": "markdown",
   "metadata": {
    "id": "JtrXh1clhiOQ"
   },
   "source": [
    "# (2) Define function to symmetrize a matrix "
   ]
  },
  {
   "cell_type": "code",
   "execution_count": 2,
   "metadata": {
    "id": "DGJA_ZF9hiOR"
   },
   "outputs": [],
   "source": [
    "# Symmetrize a matrix given a triangular one\n",
    "def symmetrise(Mat): \n",
    "    return Mat + Mat.T - np.diag(Mat.diagonal())"
   ]
  },
  {
   "cell_type": "markdown",
   "metadata": {
    "id": "6z3Y7Of-hiOR"
   },
   "source": [
    "# (3) Define function returning compound index given four indices using Yoshimine sort (provides single index for the two-electron integrals)"
   ]
  },
  {
   "cell_type": "code",
   "execution_count": 3,
   "metadata": {
    "id": "P995LDjGhiOS"
   },
   "outputs": [],
   "source": [
    "# Accesing the correct two-electorn matrix element is not straightforward, particularly for systems wit many\n",
    "#electrons\n",
    "\n",
    "def eint(a,b,c,d): # Return compound index given four indices using Yoshimine sort\n",
    "    if a > b: ab = a*(a+1)/2 + b\n",
    "    else: ab = b*(b+1)/2 + a\n",
    "    if c > d: cd = c*(c+1)/2 + d\n",
    "    else: cd = d*(d+1)/2 + c\n",
    "    if ab > cd: abcd = ab*(ab+1)/2 + cd\n",
    "    else: abcd = cd*(cd+1)/2 + ab\n",
    "\n",
    "    return abcd"
   ]
  },
  {
   "cell_type": "markdown",
   "metadata": {
    "id": "jAEcyMpNhiOT"
   },
   "source": [
    "# (4) Define function to return value of a two electron integral given the 4 indices of the basis functions"
   ]
  },
  {
   "cell_type": "code",
   "execution_count": 4,
   "metadata": {
    "id": "OICPIX_8hiOU"
   },
   "outputs": [],
   "source": [
    "def tei(a, b, c, d): # Return value of two electron integral\n",
    "    return twoe.get(eint(a, b, c, d), 0) "
   ]
  },
  {
   "cell_type": "markdown",
   "metadata": {
    "id": "A8c7VwiChiOU"
   },
   "source": [
    "# (5) Define function to make Fock Matrix"
   ]
  },
  {
   "cell_type": "code",
   "execution_count": 5,
   "metadata": {
    "id": "fDl9WNwzhiOV"
   },
   "outputs": [],
   "source": [
    "def makefock(Hcore, P, dim): # Make Fock Matrix\n",
    "    F = np.zeros((dim, dim))\n",
    "    for i in range(0, dim):\n",
    "        for j in range(0, dim):\n",
    "            F[i,j] = Hcore[i,j]\n",
    "            for k in range(0, dim):\n",
    "                for l in range(0, dim):\n",
    "                    F[i,j] = F[i,j] + P[k,l]*(tei(i+1,j+1,k+1,l+1)-0.5*tei(i+1,k+1,j+1,l+1))\n",
    "    \n",
    "    return F "
   ]
  },
  {
   "cell_type": "markdown",
   "metadata": {
    "id": "OMmTQIz-hiOV"
   },
   "source": [
    "# (6) Define function to generate Fock matrix in orthonormal AO basis"
   ]
  },
  {
   "cell_type": "code",
   "execution_count": 6,
   "metadata": {
    "id": "MzStInnfhiOW"
   },
   "outputs": [],
   "source": [
    "# Use the transformation matrix X to convert the original Fock matrix into one in the orthonormal basis\n",
    "def fprime(X, F): \n",
    "    return np.dot(np.transpose(X), np.dot(F, X)) \n"
   ]
  },
  {
   "cell_type": "markdown",
   "metadata": {
    "id": "-DDzUOg0hiOW"
   },
   "source": [
    "# (7) Define function to make density matrix and store the old one needed to test for convergence"
   ]
  },
  {
   "cell_type": "code",
   "execution_count": 7,
   "metadata": {
    "id": "dssef8TJhiOW"
   },
   "outputs": [],
   "source": [
    "def makedensity(C, D, dim, Nelec): \n",
    "    Dold = np.zeros((dim, dim))\n",
    "    for mu in range(0, dim):\n",
    "        for nu in range(0, dim):\n",
    "            Dold[mu,nu] = D[mu, nu]\n",
    "            D[mu,nu] = 0\n",
    "            for m in range(0, int(Nelec/2)):\n",
    "                D[mu,nu] = D[mu,nu] + 2*C[mu,m]*C[nu,m]\n",
    "\n",
    "    return D, Dold "
   ]
  },
  {
   "cell_type": "markdown",
   "metadata": {
    "id": "dQ-I79K-hiOX"
   },
   "source": [
    "# (8) Define function to calculate change in density matrix using Root Mean Square Deviation (RMSD)"
   ]
  },
  {
   "cell_type": "code",
   "execution_count": 8,
   "metadata": {
    "id": "8Qr78TcAhiOX"
   },
   "outputs": [],
   "source": [
    "# The function below sums the square of the difference between the each old and new element of the density matrix\n",
    "# and then takes the square root\n",
    "def deltap(D, Dold): \n",
    "    DELTA = 0.0\n",
    "    for i in range(0, dim):\n",
    "        for j in range(0, dim):\n",
    "            DELTA = DELTA + ((D[i,j] - Dold[i,j])**2)\n",
    "\n",
    "    return (DELTA)**(0.5)"
   ]
  },
  {
   "cell_type": "markdown",
   "metadata": {
    "id": "_6pNz6z7hiOX"
   },
   "source": [
    "# (9) Define function to calculate the energy at an iteration"
   ]
  },
  {
   "cell_type": "code",
   "execution_count": 9,
   "metadata": {
    "id": "sf96yCAphiOY"
   },
   "outputs": [],
   "source": [
    "# We use the expression of the energy in the Hartree Fock approach to determine the energy for an iteration\n",
    "def currentenergy(D, Hcore, F, dim): \n",
    "    EN = 0\n",
    "    for mu in range(0, dim):\n",
    "        for nu in range(0, dim):\n",
    "            EN += 0.5*D[mu,nu]*(Hcore[mu,nu] + F[mu,nu])\n",
    "            \n",
    "    EN=EN*convert_to_eV      # Convert energy to EV  \n",
    "    return EN"
   ]
  },
  {
   "cell_type": "markdown",
   "metadata": {
    "id": "bzr8mZDOhiOY"
   },
   "source": [
    "# (10) Define function to calculate the dipole moment "
   ]
  },
  {
   "cell_type": "code",
   "execution_count": 10,
   "metadata": {
    "id": "Ki7D8VjYhiOY"
   },
   "outputs": [],
   "source": [
    "# We use the density matrix to evaluate the dipole moment for an iteration. This requires matrices\n",
    "# involvinf z and the basis functions that will be read in before the function is called\n",
    "def currentdipole(D, ZM, DIPNUC, dim): \n",
    "    DIPOLE = DIPNUC\n",
    "    PROD=np.dot(ZM,D)\n",
    "    for mu in range(0, dim):\n",
    "        DIPOLE=DIPOLE+ PROD[mu,mu]\n",
    "    DIPOLE=DIPOLE*convert_to_debye # Convert dipole moment to Debye\n",
    "    return DIPOLE"
   ]
  },
  {
   "cell_type": "markdown",
   "metadata": {
    "id": "f9uIgF_chiOZ"
   },
   "source": [
    "# (11) Define some essential variables: number of electrons, number of basis functions and nuclei contribution to energy and dipole moment if needed "
   ]
  },
  {
   "cell_type": "code",
   "execution_count": 11,
   "metadata": {
    "id": "zoKpV4O2hiOZ"
   },
   "outputs": [],
   "source": [
    "# The calculations below use a set of units known as atomic units not introduced\n",
    "# in the Module. The conversion factor needed to convert the resulting energies \n",
    "# to eV is:\n",
    "convert_to_eV=27.21\n",
    "#and to convert from atomic units of dipole moment to Debye\n",
    "convert_to_debye=2.5916\n",
    "\n",
    "Nelec = 2 # The number of electrons in our system\n",
    "\n",
    "# Data for the specific physical system\n",
    "\n",
    "# Nuclear data for He\n",
    "DIPNUC=0.0 # This will not be used but it's best to set it to zero\n",
    "ENUC=0.0  # There is no nuclear repulsion in the case of an atom\n",
    "\n",
    "# Nuclear data for HeH+ in atomic units\n",
    "#DISTNUC=1.582       # the bondlength of the molecule. \n",
    "#ENUC = 1.26429*convert_to_eV # the nuclear repulsion: 0 for atoms and  Z_1 x Z_2 / R for a diatomic molecules\n",
    "#DIPNUC=-4*DISTNUC/5 + 2*DISTNUC/5\n",
    "\n",
    "# Data for the basis set:dim is the number of basis functions in the set.\n",
    "dim = 2\n",
    "\n",
    "# Threshold to be used to decide on convergence\n",
    "convergence_threshold=1.0e-7"
   ]
  },
  {
   "cell_type": "markdown",
   "metadata": {
    "id": "yKZg63bShiOa"
   },
   "source": [
    "# (12) Initilize the arrays to be used"
   ]
  },
  {
   "cell_type": "code",
   "execution_count": 12,
   "metadata": {
    "id": "QfUPfv-yhiOa"
   },
   "outputs": [],
   "source": [
    "# Initialize integrals, and put them in a Numpy array\n",
    "T = np.zeros((dim, dim))\n",
    "S = np.zeros((dim, dim)) \n",
    "V = np.zeros((dim, dim))\n",
    "#ZM = np.zeros((dim, dim))\n",
    "P = np.zeros((dim, dim)) # Initialize the density matrix P\n",
    "TEI = np.zeros((dim, dim)) # Initialize two-electron integrals"
   ]
  },
  {
   "cell_type": "markdown",
   "metadata": {
    "id": "iHLuxXT9hiOb"
   },
   "source": [
    "# (13) Read  the  elements (integrals) of the overlap, kinetic, potential integral, zm and two-electron matrices for different systems "
   ]
  },
  {
   "cell_type": "code",
   "execution_count": 13,
   "metadata": {
    "id": "oIMkjb4WhiOb"
   },
   "outputs": [],
   "source": [
    "# The matrices required are real symmetric, so element ij is equal to element ji. This means that the\n",
    "# files to be read only contain the ij and ii elements (but not the ji),i.e. the upper triangle of the matrix.\n",
    "\n",
    "# Uncomment the lines below to read the data for the Helium atom for the basis set with 2 functions\n",
    "Sraw = np.genfromtxt('./s_He_2bf.dat',dtype=None)                    # Overlap matrix \n",
    "Traw = np.genfromtxt('./t_He_2bf.dat',dtype=None)                    # Kinetic energy matrix\n",
    "Vraw = np.genfromtxt('./v_He_2bf.dat',dtype=None)                    # Potential energy matrix\n",
    "TEI  = np.genfromtxt('./two_elec_int_He_2bf.dat')                    # Two electron integrals\n",
    "\n",
    "# Uncomment the lines below to read the data for the Helium atom for the basis set with 3 functions\n",
    "\n",
    "#Sraw = np.genfromtxt('./s_He_3bf.dat',dtype=None)                    # Overlap matrix  \n",
    "#Traw = np.genfromtxt('./t_He_3bf.dat',dtype=None)                    # Kinetic energy matrix\n",
    "#Vraw = np.genfromtxt('./v_He_3bf.dat',dtype=None)                    # Potential energy matrix\n",
    "#TEI  = np.genfromtxt('./two_elec_int_He_3bf.dat')                    # Two electron integrals\n",
    "\n",
    "# Uncomment the lines below to read the data for the HeH+ for the basis set with 2 functions\n",
    "\n",
    "#Sraw = np.genfromtxt('./s_HeHp_2bf.dat',dtype=None)               # Overlap matrix \n",
    "#Traw = np.genfromtxt('./t_HeHp_2bf.dat',dtype=None)               # Kinetic energy matrix\n",
    "#Vraw = np.genfromtxt('./v_HeHp_2bf.dat',dtype=None)               # Potential energy matrix\n",
    "#ZMraw= np.genfromtxt('./zm_HeHp_2bf.dat',dtype=None)              # Expectation value of z in the atomic basis\n",
    "#TEI  = np.genfromtxt('./two_elec_int_HeHp_2bf.dat')               # Two electron integrals\n",
    "\n",
    "# Uncomment the lines below to read the data for the HeH+ for the basis set with 4 functions\n",
    "\n",
    "#Sraw = np.genfromtxt('./s_HeHp_4bf.dat',dtype=None)               # Overlap matrix \n",
    "#Traw = np.genfromtxt('./t_HeHp_4bf.dat',dtype=None)               # Kinetic energy matrix\n",
    "#Vraw = np.genfromtxt('./v_HeHp_4bf.dat',dtype=None)               # Potential energy matrix\n",
    "#ZMraw= np.genfromtxt('./zm_HeHp_4bf.dat',dtype=None)              # Expectation value of z in the atomic basis\n",
    "#TEI  = np.genfromtxt('./two_elec_int_HeHp_4bf.dat')               # Two electron integrals"
   ]
  },
  {
   "cell_type": "markdown",
   "metadata": {
    "id": "dUNFziY3hiOb"
   },
   "source": [
    "#  (14) Use the elements read above to build the square matrices required"
   ]
  },
  {
   "cell_type": "code",
   "execution_count": 14,
   "metadata": {
    "id": "thu8fLIQhiOb"
   },
   "outputs": [],
   "source": [
    "# We put the elements read  into a matrix. The line for ZMraw must be uncommented \n",
    "# when the dipole moment is calculated  and commented if it is not.\n",
    "\n",
    "for i in Sraw: S[i[0]-1, i[1]-1] = i[2]  \n",
    "for i in Traw: T[i[0]-1, i[1]-1] = i[2] \n",
    "for i in Vraw: V[i[0]-1, i[1]-1] = i[2] \n",
    "#for i in ZMraw: ZM[i[0]-1, i[1]-1] = i[2] \n",
    "\n",
    "# We build the whole matrix from the upper/lower triangle information provided\n",
    "\n",
    "S    = symmetrise(S) # Flip the triangular matrix in the diagonal\n",
    "V    = symmetrise(V) # Flip the triangular matrix in the diagonal\n",
    "T    = symmetrise(T) # Flip the triangular matrix in the diagonal\n",
    "#ZM    = symmetrise(ZM) # Flip the triangular matrix in the diagonal\n",
    "\n",
    "# We  put the two electron integrals in a dictionary. If we want to set them to \n",
    "# zero, we comment line 19 and  uncomment line 20.\n",
    "\n",
    "twoe         = {eint(row[0], row[1], row[2], row[3]) : row[4] for row in TEI} # Put in python dictionary\n",
    "#twoe         = {eint(row[0], row[1], row[2], row[3]) : 0.0 for row in TEI} # Put in python dictionary"
   ]
  },
  {
   "cell_type": "markdown",
   "metadata": {
    "id": "C9CCTezphiOc"
   },
   "source": [
    "# (15) Form core Hamiltonian matrix  and transformation matrix"
   ]
  },
  {
   "cell_type": "code",
   "execution_count": 15,
   "metadata": {
    "id": "Ty_ilhm3hiOc"
   },
   "outputs": [],
   "source": [
    "# Form core Hamiltonian matrix as sum of one electron kinetic energy, T and potential energy, V matrices\n",
    "\n",
    "Hcore  = T + V\n",
    "\n",
    "# Use the overlap matrix to generate the transformation matrix\n",
    "\n",
    "SVAL, SVEC   = np.linalg.eigh(S) # Diagonalize overlap matrix \n",
    "SVAL_minhalf = (np.diag(SVAL**(-0.5))) # Find inverse square root of eigenvalues \n",
    "S_minhalf    = np.dot(SVEC, np.dot(SVAL_minhalf, np.transpose(SVEC))) #Form the transformation matrix, S_minhalf"
   ]
  },
  {
   "cell_type": "markdown",
   "metadata": {
    "id": "IeIzfJNmhiOc"
   },
   "source": [
    "# (16) Perform the calculation until self-consistency"
   ]
  },
  {
   "cell_type": "code",
   "execution_count": 16,
   "metadata": {
    "colab": {
     "base_uri": "https://localhost:8080/"
    },
    "id": "XwHy4laehiOc",
    "outputId": "da50e6dc-314e-4815-fd04-74dd5bf426e7"
   },
   "outputs": [
    {
     "name": "stdout",
     "output_type": "stream",
     "text": [
      "E = -74.66908775, Iteration = 2\n",
      "E = -77.01899233, Iteration = 3\n",
      "E = -77.15146065, Iteration = 4\n",
      "E = -77.16006361, Iteration = 5\n",
      "E = -77.16062807, Iteration = 6\n",
      "E = -77.16066513, Iteration = 7\n",
      "E = -77.16066756, Iteration = 8\n",
      "Convergence threshold 1e-07\n",
      "SCF procedure complete, TOTAL E = -77.16066756 eV\n"
     ]
    }
   ],
   "source": [
    "# We perform the calculation until the difference between density matrices in two subsequent steps is smaller \n",
    "# than the value provided by convergence_threshold\n",
    "\n",
    "# First, we set some initial values for the iterations \n",
    "DELTA        = 1 # Set placeholder value for delta\n",
    "count        = 0 # Count how many SCF cycles are done, N(SCF)\n",
    "\n",
    "\n",
    "#Iterate until convergence criterion is met. Then exit loop and calculate properties of interest\n",
    "while DELTA > convergence_threshold :\n",
    "    count     += 1                             # Add one to the  counter\n",
    "    F         = makefock(Hcore, P, dim)        # Calculate Fock matrix, F\n",
    "    Fprime    = fprime(S_minhalf, F)           # Calculate transformed Fock matrix, F'\n",
    "    E, Cprime = np.linalg.eigh(Fprime)         # Diagonalize F' matrix to obtain eigenvalues and eigenvectors\n",
    "    C         = np.dot(S_minhalf, Cprime)      # 'Back transform' the coefficients into original basis using transformation matrix\n",
    "    P, OLDP   = makedensity(C, P, dim, Nelec)  # Make density matrix\n",
    "    DELTA     = deltap(P, OLDP)                # Test for convergence. \n",
    "    \n",
    "# Print the value of the energy obtained in each step.\n",
    "# We must add the nuclear repoulsion term, ENUC, to the energy\n",
    "# We avoid printing the first iteration, where the Fock matrix is set equal to Hcore and the energy is bad\n",
    "    if count > 1: print(\"E = {:.8f}, Iteration = {}\".format(currentenergy(P, Hcore, F, dim) + ENUC, count))\n",
    "\n",
    "# Print the final result, including the dipole moment if it is not zero\n",
    "print (\"Convergence threshold\",convergence_threshold)\n",
    "print(\"SCF procedure complete, TOTAL E = {:.8f} eV\".format(currentenergy(P, Hcore, F, dim) + ENUC))\n",
    "if DIPNUC !=0.0: print(\"Dipole moment= {:.8f} D\".format(currentdipole(P, ZM,DIPNUC, dim)))"
   ]
  },
  {
   "cell_type": "code",
   "execution_count": null,
   "metadata": {},
   "outputs": [],
   "source": []
  },
  {
   "cell_type": "code",
   "execution_count": null,
   "metadata": {},
   "outputs": [],
   "source": []
  }
 ],
 "metadata": {
  "colab": {
   "provenance": []
  },
  "kernelspec": {
   "display_name": "Python 3",
   "language": "python",
   "name": "python3"
  },
  "language_info": {
   "codemirror_mode": {
    "name": "ipython",
    "version": 3
   },
   "file_extension": ".py",
   "mimetype": "text/x-python",
   "name": "python",
   "nbconvert_exporter": "python",
   "pygments_lexer": "ipython3",
   "version": "3.8.8"
  }
 },
 "nbformat": 4,
 "nbformat_minor": 1
}
